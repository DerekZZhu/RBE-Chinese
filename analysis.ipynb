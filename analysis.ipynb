{
 "cells": [
  {
   "cell_type": "code",
   "execution_count": 2,
   "metadata": {},
   "outputs": [],
   "source": [
    "import pandas as pd\n",
    "import json\n",
    "import numpy as np"
   ]
  },
  {
   "cell_type": "code",
   "execution_count": 3,
   "metadata": {},
   "outputs": [],
   "source": [
    "data = pd.read_csv(\"SWSR-CORE/core_Data.csv\")"
   ]
  },
  {
   "cell_type": "code",
   "execution_count": 7,
   "metadata": {},
   "outputs": [],
   "source": [
    "dataset = []\n",
    "for item in data.itertuples(index=True, name='Pandas'):\n",
    "    sample = [item.comment_text, item.label]\n",
    "    dataset.append(sample)"
   ]
  },
  {
   "cell_type": "code",
   "execution_count": 11,
   "metadata": {},
   "outputs": [
    {
     "name": "stdout",
     "output_type": "stream",
     "text": [
      "Training Set: 8072 samples\n",
      "Test Set: 896 samples\n"
     ]
    }
   ],
   "source": [
    "import random\n",
    "\n",
    "random.shuffle(dataset)\n",
    "train_size = int(0.9 * len(dataset))\n",
    "test_size = int(0.1 * len(dataset))\n",
    "\n",
    "train_dataset = dataset[:train_size]\n",
    "test_dataset = dataset[train_size:train_size+test_size]\n",
    "\n",
    "print(f\"Training Set: {len(train_dataset)} samples\")\n",
    "print(f\"Test Set: {len(test_dataset)} samples\")\n"
   ]
  },
  {
   "cell_type": "code",
   "execution_count": 12,
   "metadata": {},
   "outputs": [],
   "source": [
    "with open(\"SWSR-CORE/train.json\", \"w\", encoding=\"utf-8\") as t:\n",
    "    json.dump(train_dataset, t, ensure_ascii=False)\n",
    "\n",
    "with open(\"SWSR-CORE/test.json\", \"w\", encoding=\"utf-8\") as t:\n",
    "    json.dump(test_dataset, t, ensure_ascii=False)"
   ]
  }
 ],
 "metadata": {
  "kernelspec": {
   "display_name": "cse446",
   "language": "python",
   "name": "python3"
  },
  "language_info": {
   "codemirror_mode": {
    "name": "ipython",
    "version": 3
   },
   "file_extension": ".py",
   "mimetype": "text/x-python",
   "name": "python",
   "nbconvert_exporter": "python",
   "pygments_lexer": "ipython3",
   "version": "3.8.10"
  }
 },
 "nbformat": 4,
 "nbformat_minor": 2
}
